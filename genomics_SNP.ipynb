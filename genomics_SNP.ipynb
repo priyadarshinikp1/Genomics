{
  "nbformat": 4,
  "nbformat_minor": 0,
  "metadata": {
    "colab": {
      "provenance": [],
      "authorship_tag": "ABX9TyMuwzjmdOY0cR4JQ8dmZw1M",
      "include_colab_link": true
    },
    "kernelspec": {
      "name": "python3",
      "display_name": "Python 3"
    },
    "language_info": {
      "name": "python"
    }
  },
  "cells": [
    {
      "cell_type": "markdown",
      "metadata": {
        "id": "view-in-github",
        "colab_type": "text"
      },
      "source": [
        "<a href=\"https://colab.research.google.com/github/priyadarshinikp1/Genomics/blob/main/genomics_SNP.ipynb\" target=\"_parent\"><img src=\"https://colab.research.google.com/assets/colab-badge.svg\" alt=\"Open In Colab\"/></a>"
      ]
    },
    {
      "cell_type": "markdown",
      "source": [
        "# 📦 Install dependencies and build Picard & GATK from source"
      ],
      "metadata": {
        "id": "E7tgYKB1LIzD"
      }
    },
    {
      "cell_type": "code",
      "execution_count": null,
      "metadata": {
        "id": "w786v1lFDX2c"
      },
      "outputs": [],
      "source": [
        "\n",
        "!sudo apt update\n",
        "!sudo apt install -y openjdk-17-jdk-headless\n",
        "\n",
        "# Set JAVA_HOME so Java knows where to look\n",
        "import os\n",
        "os.environ[\"JAVA_HOME\"] = \"/usr/lib/jvm/java-17-openjdk-amd64\"\n",
        "\n",
        "# Clone and build Picard\n",
        "!git clone https://github.com/broadinstitute/picard.git\n",
        "%cd picard\n",
        "!./gradlew shadowJar\n",
        "%cd ..\n",
        "\n",
        "# Clone and build GATK\n",
        "!git clone https://github.com/broadinstitute/gatk.git\n",
        "%cd gatk\n",
        "!./gradlew bundle\n",
        "%cd ..\n",
        "\n",
        "# Set paths to the newly built JARs\n",
        "PICARD_PATH = \"./picard/build/libs/picard.jar\"\n",
        "GATK_PATH = \"./gatk/build/libs/gatk.jar\"\n",
        "\n",
        "print(\"✅ Picard and GATK successfully built.\")\n"
      ]
    },
    {
      "cell_type": "markdown",
      "source": [
        "Set up paths and parameters"
      ],
      "metadata": {
        "id": "bqQAj8bTLUuI"
      }
    },
    {
      "cell_type": "code",
      "source": [
        "# 📁 Set up paths and parameters\n",
        "\n",
        "# Reference files\n",
        "REFERENCE_GENOME = \"./ref/genomic.fna\"\n",
        "KNOWN_SITES = \"./Homo_sapiens_assembly38.dbsnp138.vcf\"\n",
        "\n",
        "# Input/output directories\n",
        "INPUT_DIR = \"./trimmed_reads\"\n",
        "OUTPUT_DIR = \"./output\"\n",
        "\n",
        "# Tool paths\n",
        "GATK_PATH = \"./gatk/build/libs/gatk.jar\"\n",
        "PICARD_PATH = \"./picard/build/libs/picard.jar\"\n",
        "SNPEFF_JAR = \"./snpEff/snpEff.jar\"\n",
        "SNPEFF_DB = \"GRCh38.99\"\n",
        "\n",
        "# ANNOVAR paths\n",
        "ANNOVAR_DIR = \"./annovar\"\n",
        "HUMANDB = f\"{ANNOVAR_DIR}/humandb\"\n",
        "\n",
        "# Create output dir if needed\n",
        "import os\n",
        "os.makedirs(OUTPUT_DIR, exist_ok=True)\n"
      ],
      "metadata": {
        "id": "Udh7stD9LTiq"
      },
      "execution_count": null,
      "outputs": []
    },
    {
      "cell_type": "markdown",
      "source": [
        "Utility function to log time"
      ],
      "metadata": {
        "id": "y5lmL1E_LliS"
      }
    },
    {
      "cell_type": "code",
      "source": [
        "from datetime import datetime\n",
        "\n",
        "def log_time(msg):\n",
        "    print(f\"{datetime.now().strftime('%Y-%m-%d %H:%M:%S')} - {msg}\")\n"
      ],
      "metadata": {
        "id": "P8PsOE1qLpQ1"
      },
      "execution_count": null,
      "outputs": []
    },
    {
      "cell_type": "markdown",
      "source": [
        "FASTQ to Variant Calling Pipeline (Bowtie2 → GATK)"
      ],
      "metadata": {
        "id": "tt3ZSeuCLsp_"
      }
    },
    {
      "cell_type": "code",
      "source": [
        "import glob\n",
        "import os\n",
        "\n",
        "fastq_files = glob.glob(os.path.join(INPUT_DIR, \"*_trimmed.fastq\"))\n",
        "\n",
        "for fastq in fastq_files:\n",
        "    sample_name = os.path.basename(fastq).replace(\"_trimmed.fastq\", \"\")\n",
        "    log_time(f\"Processing sample: {sample_name}\")\n",
        "\n",
        "    !bowtie2 -x {REFERENCE_GENOME[:-4]} -U {fastq} -S {OUTPUT_DIR}/{sample_name}.sam\n",
        "    !samtools view -bS {OUTPUT_DIR}/{sample_name}.sam | samtools sort -o {OUTPUT_DIR}/{sample_name}.sorted.bam\n",
        "    !samtools index {OUTPUT_DIR}/{sample_name}.sorted.bam\n",
        "\n",
        "    !java -jar {PICARD_PATH} MarkDuplicates \\\n",
        "        -I {OUTPUT_DIR}/{sample_name}.sorted.bam \\\n",
        "        -O {OUTPUT_DIR}/{sample_name}.marked_duplicates.bam \\\n",
        "        -M {OUTPUT_DIR}/{sample_name}.marked_duplicates.metrics\n",
        "\n",
        "    !java -jar {PICARD_PATH} AddOrReplaceReadGroups \\\n",
        "        -I {OUTPUT_DIR}/{sample_name}.marked_duplicates.bam \\\n",
        "        -O {OUTPUT_DIR}/reads_with_RG_{sample_name}.sorted.bam \\\n",
        "        -RGID {sample_name} -RGLB lib1 -RGPL illumina -RGSM {sample_name} -RGPU unit1 \\\n",
        "        -CREATE_INDEX true\n",
        "\n",
        "    !java -jar {GATK_PATH} BaseRecalibrator \\\n",
        "        -R {REFERENCE_GENOME} \\\n",
        "        -I {OUTPUT_DIR}/reads_with_RG_{sample_name}.sorted.bam \\\n",
        "        --known-sites {KNOWN_SITES} \\\n",
        "        -O {OUTPUT_DIR}/{sample_name}.recal_data.table\n",
        "\n",
        "    !java -jar {GATK_PATH} ApplyBQSR \\\n",
        "        -R {REFERENCE_GENOME} \\\n",
        "        -I {OUTPUT_DIR}/reads_with_RG_{sample_name}.sorted.bam \\\n",
        "        --bqsr-recal-file {OUTPUT_DIR}/{sample_name}.recal_data.table \\\n",
        "        -O {OUTPUT_DIR}/{sample_name}.recalibrated.bam\n",
        "\n",
        "    !java -jar {GATK_PATH}HaplotypeCaller \\\n",
        "        -R {REFERENCE_GENOME} \\\n",
        "        -I {OUTPUT_DIR}/reads_with_RG_{sample_name}.sorted.bam \\\n",
        "        -O {OUTPUT_DIR}/{sample_name}.vcf.gz\n"
      ],
      "metadata": {
        "id": "Nn6N8DOFLw9t"
      },
      "execution_count": null,
      "outputs": []
    },
    {
      "cell_type": "markdown",
      "source": [
        "Annotation"
      ],
      "metadata": {
        "id": "0S9yKRpqPCi3"
      }
    },
    {
      "cell_type": "code",
      "source": [
        " !java -Xmx4g -jar {SNPEFF_JAR} ann {SNPEFF_DB} {OUTPUT_DIR}/{sample_name}.vcf.gz > {OUTPUT_DIR}/{sample_name}.snpeff.vcf\n",
        "\n",
        "    !{ANNOVAR_DIR}/convert2annovar.pl -format vcf4 {OUTPUT_DIR}/{sample_name}.snpeff.vcf > {OUTPUT_DIR}/{sample_name}.avinput\n",
        "\n",
        "    !{ANNOVAR_DIR}/table_annovar.pl {OUTPUT_DIR}/{sample_name}.avinput {HUMANDB} -buildver hg38 \\\n",
        "        -out {OUTPUT_DIR}/{sample_name}_annovar -remove \\\n",
        "        -protocol refGene,clinvar_20150330,exac03,gnomad30_genome \\\n",
        "        -operation g,f,f,f -nastring . -vcfinput\n",
        "\n",
        "    !bcftools merge {OUTPUT_DIR}/{sample_name}.snpeff.vcf {OUTPUT_DIR}/{sample_name}_annovar.hg38_multianno.vcf \\\n",
        "        -o {OUTPUT_DIR}/{sample_name}_combined.vcf -O v"
      ],
      "metadata": {
        "id": "_s4rlTGJPGdC"
      },
      "execution_count": null,
      "outputs": []
    },
    {
      "cell_type": "code",
      "source": [
        "log_time(\"Pipeline execution complete. Results are in the output directory.\")\n"
      ],
      "metadata": {
        "id": "s9trIag8PW00"
      },
      "execution_count": null,
      "outputs": []
    }
  ]
}