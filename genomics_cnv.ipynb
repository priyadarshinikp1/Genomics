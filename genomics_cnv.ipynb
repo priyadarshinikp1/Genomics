{
  "nbformat": 4,
  "nbformat_minor": 0,
  "metadata": {
    "colab": {
      "provenance": [],
      "authorship_tag": "ABX9TyOZhvS5RvhytxCSVdKFBZ7y",
      "include_colab_link": true
    },
    "kernelspec": {
      "name": "python3",
      "display_name": "Python 3"
    },
    "language_info": {
      "name": "python"
    }
  },
  "cells": [
    {
      "cell_type": "markdown",
      "metadata": {
        "id": "view-in-github",
        "colab_type": "text"
      },
      "source": [
        "<a href=\"https://colab.research.google.com/github/priyadarshinikp1/Genomics/blob/main/genomics_cnv.ipynb\" target=\"_parent\"><img src=\"https://colab.research.google.com/assets/colab-badge.svg\" alt=\"Open In Colab\"/></a>"
      ]
    },
    {
      "cell_type": "markdown",
      "source": [
        "Copy Number Variant (CNV) calling using GATK"
      ],
      "metadata": {
        "id": "eJeg07K9a3e9"
      }
    },
    {
      "cell_type": "markdown",
      "source": [
        "1. PreprocessIntervals\n",
        "  \n",
        "\n",
        "🔍 What it does:\n",
        "\n",
        "Splits the genome into non-overlapping bins (e.g., 1000 bp windows).\n",
        "\n",
        "🧠 Why:\n",
        "\n",
        "CNVs are detected by comparing read depth across the genome. Binning makes the genome easier to scan and allows for uniform analysis of coverage differences."
      ],
      "metadata": {
        "id": "u5koEe99bLBz"
      }
    },
    {
      "cell_type": "code",
      "source": [
        "gatk PreprocessIntervals \\\n",
        "  -R reference.fasta \\\n",
        "  --bin-length 1000 \\\n",
        "  --interval-merging-rule OVERLAPPING_ONLY \\\n",
        "  -O intervals.interval_list"
      ],
      "metadata": {
        "id": "HWAjG0FIbH28"
      },
      "execution_count": null,
      "outputs": []
    },
    {
      "cell_type": "markdown",
      "source": [
        "2. AnnotateIntervals\n",
        "🔍 What it does:\n",
        "\n",
        "Adds GC content and other metadata to each bin.\n",
        "\n",
        "🧠 Why:\n",
        "\n",
        "Read depth is affected by GC bias — regions with very high or low GC content tend to get sequenced unevenly. GC annotation helps GATK normalize for this during denoising."
      ],
      "metadata": {
        "id": "lWlaQ8VRbTHq"
      }
    },
    {
      "cell_type": "code",
      "source": [
        "gatk AnnotateIntervals \\\n",
        "  -R reference.fasta \\\n",
        "  -L intervals.interval_list \\\n",
        "  -O intervals_annotated.tsv\n",
        "\n",
        "  --interval-merging-rule OVERLAPPING_ONLY \\"
      ],
      "metadata": {
        "id": "31iANGw3bdVh"
      },
      "execution_count": null,
      "outputs": []
    },
    {
      "cell_type": "markdown",
      "source": [
        "3. CollectReadCounts\n",
        "\n",
        "🔍 What it does:\n",
        "\n",
        "Counts the number of reads mapped to each genomic bin.\n",
        "\n",
        "🧠 Why:\n",
        "\n",
        "CNVs cause changes in read depth. For example:\n",
        "\n",
        "Deletions → fewer reads in a region\n",
        "\n",
        "Duplications → more reads\n",
        "\n",
        "This is the core input data for CNV calling."
      ],
      "metadata": {
        "id": "rzAoutY8biMp"
      }
    },
    {
      "cell_type": "code",
      "source": [
        "gatk CollectReadCounts \\\n",
        "  -I sample.bam \\\n",
        "  -L intervals.interval_list \\\n",
        "  --interval-merging-rule OVERLAPPING_ONLY \\\n",
        "  -O sample.counts.hdf5"
      ],
      "metadata": {
        "id": "l0ltZ-LcbsS7"
      },
      "execution_count": null,
      "outputs": []
    },
    {
      "cell_type": "markdown",
      "source": [
        "4. DenoiseReadCounts\n",
        "\n",
        "🔍 What it does:\n",
        "\n",
        "Normalizes your read counts to remove noise: GC bias, Global depth variability, Sequencing artifacts\n",
        "\n",
        "🧠 Why:\n",
        "\n",
        "Raw read counts are noisy. Denoising helps reveal the true copy number signal, making deletions and duplications easier to detect accurately — especially without a PoN.\n",
        "\n",
        "If you have a Panel of Normals (--count-panel-of-normals), it uses those normals to better subtract systematic biases. But even without one, GATK applies GC and depth correction."
      ],
      "metadata": {
        "id": "Qy8ZfG61byIX"
      }
    },
    {
      "cell_type": "code",
      "source": [
        "gatk DenoiseReadCounts \\\n",
        "  -I sample.counts.hdf5 \\\n",
        "  --standardized-copy-ratios sample.standardizedCR.tsv \\\n",
        "  --denoised-copy-ratios sample.denoisedCR.tsv\n",
        ""
      ],
      "metadata": {
        "id": "b58onEJnb-Pt"
      },
      "execution_count": null,
      "outputs": []
    },
    {
      "cell_type": "markdown",
      "source": [
        "5. ModelSegments\n",
        "\n",
        "🔍 What it does:\n",
        "\n",
        "Segments the genome into contiguous regions of similar copy number.\n",
        "\n",
        "🧠 Why:\n",
        "\n",
        "Rather than calling CNVs in every small bin, it groups bins with similar copy ratios into meaningful regions (segments). This step creates the actual CNV profiles of the sample."
      ],
      "metadata": {
        "id": "YCUZ9yIbb_TN"
      }
    },
    {
      "cell_type": "code",
      "source": [
        "gatk ModelSegments \\\n",
        "  --denoised-copy-ratios sample.denoisedCR.tsv \\\n",
        "  --output output_dir \\\n",
        "  --output-prefix sample"
      ],
      "metadata": {
        "id": "_MliZiPgcQIq"
      },
      "execution_count": null,
      "outputs": []
    },
    {
      "cell_type": "markdown",
      "source": [
        "6. CallCopyRatioSegments\n",
        "\n",
        "🔍 What it does:\n",
        "\n",
        "Applies statistical rules to label segments as: Deletion, Duplication, Neutral\n",
        "\n",
        "🧠 Why:\n",
        "\n",
        "This step finalizes the CNV calls by interpreting the copy ratio values and turning them into biologically meaningful variants.\n",
        "\n",
        "Output is in .seg format, which you can convert to .bed or annotate with gene info.\n"
      ],
      "metadata": {
        "id": "5iVtwxL0cWDJ"
      }
    },
    {
      "cell_type": "code",
      "source": [
        "gatk CallCopyRatioSegments \\\n",
        "  -I output_dir/sample.modelFinal.seg \\\n",
        "  -O sample.called.seg"
      ],
      "metadata": {
        "id": "tnxdO8wDcZDj"
      },
      "execution_count": null,
      "outputs": []
    },
    {
      "cell_type": "markdown",
      "source": [
        "\n",
        "\n",
        "🧬 CNV Annotation with Gene Names\n",
        "\n",
        "To annotate your CNVs (e.g., from sample.called.seg) with gene information, here’s how you can do it:\n",
        "\n",
        "\n",
        "\n",
        "🧰 What You Need\n",
        "\n",
        "Your CNV calls in BED format\n",
        "\n",
        " → Convert from .seg if needed\n",
        "\n",
        "A gene annotation file (e.g., GENCODE or RefSeq) in BED or GTF format\n",
        "\n",
        " You can download one from: GENCODE BED, UCSC Table Browser (RefSeq or Ensembl)\n",
        "\n",
        "\n",
        "\n",
        "📦 Step-by-Step: Annotate CNVs with bedtools\n",
        "\n",
        "1. Convert .seg to .bed  "
      ],
      "metadata": {
        "id": "6mbpz1kVcqmU"
      }
    },
    {
      "cell_type": "code",
      "source": [
        "awk 'NR>1 {print $2\"\\t\"$3\"\\t\"$4\"\\t\"$5}' sample.called.seg > sample.cnv.bed"
      ],
      "metadata": {
        "id": "41BvfRT-c3yC"
      },
      "execution_count": null,
      "outputs": []
    },
    {
      "cell_type": "markdown",
      "source": [
        "2. Intersect CNVs with Genes\n",
        "\n",
        "This gives you: CNV coordinates, Gene names overlapped, Can also add gene functions manually if needed"
      ],
      "metadata": {
        "id": "hehr6U7Hc7fN"
      }
    },
    {
      "cell_type": "code",
      "source": [
        "bedtools intersect -a sample.cnv.bed -b genes.bed -wa -wb > sample.cnv.annotated.bed"
      ],
      "metadata": {
        "id": "gBzJhdl9dDNl"
      },
      "execution_count": null,
      "outputs": []
    },
    {
      "cell_type": "markdown",
      "source": [
        "VISUALIZATION OF CNVs\n",
        "\n",
        "✅ 1. Plot CNVs (Visualize Copy Ratios)\n",
        "\n",
        "Use PlotDenoisedCopyRatios to generate plots for your CNV calls:"
      ],
      "metadata": {
        "id": "iNo8sq0_dEgp"
      }
    },
    {
      "cell_type": "code",
      "source": [
        "java -jar ./gatk/build/libs/gatk.jar PlotDenoisedCopyRatios \\\n",
        "  --standardized-copy-ratios sample.standardizedCR.tsv \\\n",
        "  --denoised-copy-ratios sample.denoisedCR.tsv \\\n",
        "  --sequence-dictionary ./ucsref/hg38.dict \\\n",
        "  --output output_dir \\\n",
        "  --output-prefix sample"
      ],
      "metadata": {
        "id": "VwHgmlnMdP_b"
      },
      "execution_count": null,
      "outputs": []
    },
    {
      "cell_type": "markdown",
      "source": [
        "✅ 2. Convert .seg to .bed for annotation\n",
        "\n",
        "GATK .seg format → BED format:\n",
        "  \n",
        "Explanation:\n",
        "\n",
        "Skips header (tail -n +2)\n",
        "\n",
        "Outputs: chr, start, end, copy ratio"
      ],
      "metadata": {
        "id": "rRh_qyAYdULN"
      }
    },
    {
      "cell_type": "code",
      "source": [
        "tail -n +2 sample.called.seg | awk 'BEGIN{OFS=\"\\t\"} {print $1, int($2), int($3), $4}' > sample.cnv.bed"
      ],
      "metadata": {
        "id": "kp9oc-l4dfQp"
      },
      "execution_count": null,
      "outputs": []
    },
    {
      "cell_type": "markdown",
      "source": [
        "\n",
        "\n",
        "✅ 3. Download RefSeq Gene BED (UCSC Table Browser)\n",
        "\n",
        "Go to: https://genome.ucsc.edu/cgi-bin/hgTables\n",
        "\n",
        "Settings:\n",
        "\n",
        "clade: Mammal\n",
        "\n",
        "genome: Human\n",
        "\n",
        "assembly: hg38\n",
        "\n",
        "group: Genes and Gene Predictions\n",
        "\n",
        "track: RefSeq Genes\n",
        "\n",
        "table: refGene\n",
        "\n",
        "output format: BED - browser extensible data\n",
        "\n",
        "output file: refseq_genes.bed\n",
        "\n",
        "Select:\n",
        "\n",
        "✅ “Create one BED record per” → Whole gene\n",
        "\n",
        "✅ Add 200 bases upstream/downstream (optional)\n",
        "\n",
        "Then click \"get output\" → download file."
      ],
      "metadata": {
        "id": "Kxv49zsFdp78"
      }
    },
    {
      "cell_type": "markdown",
      "source": [
        "✅ 4. Annotate CNVs with Gene Names using bedtools\n",
        "\n",
        "Make sure you have bedtools installed:\n",
        "  \n",
        "\n",
        "This gives:\n",
        "\n",
        "Your CNV regions\n",
        "\n",
        "Overlapping genes (from RefSeq)"
      ],
      "metadata": {
        "id": "PqJQdVNEd2Zh"
      }
    },
    {
      "cell_type": "code",
      "source": [
        "bedtools intersect -a sample.cnv.bed -b refseq_genes.bed -wa -wb > sample.cnv.annotated.bed"
      ],
      "metadata": {
        "id": "N5gqkPz1dya3"
      },
      "execution_count": null,
      "outputs": []
    },
    {
      "cell_type": "markdown",
      "source": [
        "✅ Result\n",
        "\n",
        "You now have:\n",
        "\n",
        "📁 sample.cnv.annotated.bed with CNVs and gene names\n",
        "\n",
        "📈 Plots in output_dir/ for each chromosome\n",
        "\n",
        "🧬 sample.called.seg, .tsv, and .bed for downstream analysis"
      ],
      "metadata": {
        "id": "FL9ITe6Yd_MM"
      }
    }
  ]
}