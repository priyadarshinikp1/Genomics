{
  "nbformat": 4,
  "nbformat_minor": 0,
  "metadata": {
    "colab": {
      "provenance": [],
      "authorship_tag": "ABX9TyOImWkbhd6cv4T9jPmtfYYi",
      "include_colab_link": true
    },
    "kernelspec": {
      "name": "python3",
      "display_name": "Python 3"
    },
    "language_info": {
      "name": "python"
    }
  },
  "cells": [
    {
      "cell_type": "markdown",
      "metadata": {
        "id": "view-in-github",
        "colab_type": "text"
      },
      "source": [
        "<a href=\"https://colab.research.google.com/github/priyadarshinikp1/Genomics/blob/main/genomics_mt.ipynb\" target=\"_parent\"><img src=\"https://colab.research.google.com/assets/colab-badge.svg\" alt=\"Open In Colab\"/></a>"
      ]
    },
    {
      "cell_type": "markdown",
      "source": [
        "We Can Call mtDNA + Nuclear DNA Together using GATK HaplotypeCaller\n",
        "\n",
        "This will call autosomes + sex chromosomes + mtDNA, but...\n",
        "\n",
        "Problem: mtDNA is haploid, not diploid. This can lead to:\n",
        "\n",
        "Incorrect genotypes (e.g. 0/1 or 1/1 instead of 1)\n",
        "\n",
        "Misleading allele depths and likelihoods\n",
        "\n",
        "🛠 Best Practice (Recommended Hybrid Approach):\n",
        "\n",
        "✅ Step 1: Standard Nuclear Variant Calling\n",
        "\n",
        "Call nuclear variants with default diploid settings (ploidy=2), excluding mitochondrial contig.\n",
        "Create the autosomes.sex.chroms.list by excluding \"MT\" or \"chrM\"."
      ],
      "metadata": {
        "id": "c4m5LWmrIRop"
      }
    },
    {
      "cell_type": "code",
      "source": [
        "gatk HaplotypeCaller \\\n",
        "  -R reference.fasta \\\n",
        "  -I sample.bam \\\n",
        "  -O sample.nuclear.vcf.gz \\\n",
        "  -L autosomes.sex.chroms.list \\\n",
        "  --sample-ploidy 2"
      ],
      "metadata": {
        "id": "V9D1fBbHIv1I"
      },
      "execution_count": null,
      "outputs": []
    },
    {
      "cell_type": "markdown",
      "source": [
        "✅ Step 2: mtDNA-Specific Variant Calling\n",
        "\n",
        "Call only mtDNA, with --sample-ploidy 1:"
      ],
      "metadata": {
        "id": "nltpXgPHI9nf"
      }
    },
    {
      "cell_type": "code",
      "source": [
        "gatk HaplotypeCaller \\\n",
        "  -R reference.fasta \\\n",
        "  -I sample.bam \\\n",
        "  -O sample.mtdna.vcf.gz \\\n",
        "  -L MT \\\n",
        "  --sample-ploidy 1"
      ],
      "metadata": {
        "id": "j1cZ8SJ4JJJO"
      },
      "execution_count": null,
      "outputs": []
    },
    {
      "cell_type": "markdown",
      "source": [
        "✅ Step 3: Merge VCFs (Optional)\n",
        "\n",
        "If you want to combine nuclear and mtDNA VCFs:"
      ],
      "metadata": {
        "id": "KHvJ2GenJMc7"
      }
    },
    {
      "cell_type": "code",
      "source": [
        "bcftools concat -a -Oz -o sample.all.vcf.gz sample.nuclear.vcf.gz sample.mtdna.vcf.gz\n",
        "bcftools index sample.all.vcf.gz"
      ],
      "metadata": {
        "id": "A8DIHvFdJS37"
      },
      "execution_count": null,
      "outputs": []
    },
    {
      "cell_type": "markdown",
      "source": [
        "✅ Step 4: Annotation (e.g., with VEP or ANNOVAR)\n",
        "\n",
        "Now annotate the merged VCF, or annotate nuclear and mtDNA VCFs separately."
      ],
      "metadata": {
        "id": "9ZenyVq-PQ4o"
      }
    },
    {
      "cell_type": "code",
      "source": [
        "vep -i sample.all.vcf.gz -o sample.annotated.vcf --vcf --everything --assembly GRCh38"
      ],
      "metadata": {
        "id": "nffNVToBPR-p"
      },
      "execution_count": null,
      "outputs": []
    },
    {
      "cell_type": "markdown",
      "source": [
        "annotation can be done using web based tools like mitomap or mitomaster"
      ],
      "metadata": {
        "id": "s2T-lj3oV-c8"
      }
    }
  ]
}